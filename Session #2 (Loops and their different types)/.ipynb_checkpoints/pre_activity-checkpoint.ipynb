{
 "cells": [
  {
   "cell_type": "markdown",
   "metadata": {},
   "source": [
    "How to create an input in Python? كيف نقوم بانشاء مدخل في البايثون "
   ]
  },
  {
   "cell_type": "code",
   "execution_count": null,
   "metadata": {
    "notebookRunGroups": {
     "groupValue": ""
    }
   },
   "outputs": [],
   "source": [
    "#To create an input لانشاء دخل \n",
    "n = input(\"Enter an input: \")\n",
    "print(n)"
   ]
  },
  {
   "cell_type": "markdown",
   "metadata": {},
   "source": [
    "What is the type on that input? ما نوع هذا المدخل"
   ]
  },
  {
   "cell_type": "code",
   "execution_count": null,
   "metadata": {},
   "outputs": [],
   "source": [
    "print(type(n))"
   ]
  },
  {
   "cell_type": "markdown",
   "metadata": {},
   "source": [
    "How to create an integer input? كيف نقوم بانشاء مدخل نوعه رقم صحيح"
   ]
  },
  {
   "cell_type": "code",
   "execution_count": null,
   "metadata": {},
   "outputs": [],
   "source": [
    "#To make the input type integer لجعل نوع الدخل رقم صحيح\n",
    "x = int(input(\"Enter an integer: \"))\n",
    "print(type(x))"
   ]
  },
  {
   "cell_type": "markdown",
   "metadata": {},
   "source": [
    "What can we do if we want to enter a list input?\n",
    "ماذا نفعل عندما نريد ادخال قائمة"
   ]
  },
  {
   "cell_type": "code",
   "execution_count": null,
   "metadata": {},
   "outputs": [],
   "source": [
    "#to enter a list لادخال قائمة \n",
    "input_string = input(\"Enter elements separated by spaces: \")\n",
    "print(input_string)\n",
    "user_list = input_string.split()\n",
    "print(user_list)"
   ]
  },
  {
   "cell_type": "markdown",
   "metadata": {},
   "source": [
    "How can we convert all elements of the list to integers?\n",
    "كيف نقوم بتحويل جميع عناصر القائمة الى أرقام صحيحة "
   ]
  },
  {
   "cell_type": "code",
   "execution_count": null,
   "metadata": {},
   "outputs": [],
   "source": [
    "#converting each element in the list into integer \n",
    "#تحويل كل عنصر من عناصر القائمة إلى رقم صحيح \n",
    "user_list = [int(x) for x in user_list] \n",
    "\n",
    "print(user_list)"
   ]
  }
 ],
 "metadata": {
  "kernelspec": {
   "display_name": "reacher",
   "language": "python",
   "name": "python3"
  },
  "language_info": {
   "codemirror_mode": {
    "name": "ipython",
    "version": 3
   },
   "file_extension": ".py",
   "mimetype": "text/x-python",
   "name": "python",
   "nbconvert_exporter": "python",
   "pygments_lexer": "ipython3",
   "version": "3.8.16"
  }
 },
 "nbformat": 4,
 "nbformat_minor": 2
}
