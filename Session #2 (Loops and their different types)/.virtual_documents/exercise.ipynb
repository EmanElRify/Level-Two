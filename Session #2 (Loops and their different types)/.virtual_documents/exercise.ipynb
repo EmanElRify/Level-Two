my_list = [10, 20, 30, 40, 50]
my_list.append(60)
print(my_list)


my_list = [10, 20, 30, 40, 50]
my_list.remove(30)
print(my_list)



my_list = [10, 20, 30, 40, 50]
print(my_list[2])



my_list = [10, 20, 30, 40, 50]
print(my_list[1:3])




my_list = [10, 20, 30, 40, 50]
my_list[0] = 5
print(my_list)


my_list = [10, 20, 30, 40, 50]
new_list = [70, 80, 90]
combined_list = my_list + new_list
print(combined_list)



print(len(combined_list))


x = [1, 2, 3 , 4 , 5]
for i in x:
    print(i)
    print('--------')
    for n in [1, 2]:
        print(n)
        print('**')






