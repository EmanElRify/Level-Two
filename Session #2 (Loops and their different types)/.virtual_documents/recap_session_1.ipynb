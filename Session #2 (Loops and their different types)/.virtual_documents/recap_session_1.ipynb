False or False or (15 > 15 or 15 == 15) or False


False or True or False or False


"3" + "x"


3 * 'x'


3 *"x"


not(True or False)


True and False


False and True and (15 > 15 or 15 == 15) and True


True & True


True or False


3^3


2**3


4/2


5%2
# 5 / 2 = 2    .5 * 2 = 1
# 7 / 2 = 3    .5 * 2 = 1
# 4 = 2 + 2
# 5 = 2 + 2 + 1


print(type(4/2))
print(type(4//2))


4/2


7//2


int('4.0')


str(4.0)


str(int(2/2))


type([1,2,3,4])


type((1,2,3))


type(range(5))


type({1: 'Malak', 2: 'Razan'})


type({2,3,1,1,1})





mylist = [1,2,3,4]
mylist.remove(1)





mylist



