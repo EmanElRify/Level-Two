x = 5
print(x)  # Missing a comma between two statements


# lst = [1, 2, 3]
# print(lst[5])  # Accessing an index that doesn't exist in the list
x = 10/ 0 # Division by zero



num1 = 10
num2 = 5
result = num1 - num2  # Intention was addition, but subtraction is used
result



